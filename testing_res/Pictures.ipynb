{
 "cells": [
  {
   "cell_type": "code",
   "execution_count": 1,
   "id": "fec85d86-46ad-40c1-a912-78657e2b0cea",
   "metadata": {},
   "outputs": [
    {
     "name": "stdout",
     "output_type": "stream",
     "text": [
      "box  bunny  crate  crate_dis  drill  graphs  graphs.ipynb  pics  Pictures.ipynb\n"
     ]
    }
   ],
   "source": [
    "!ls"
   ]
  },
  {
   "cell_type": "code",
   "execution_count": 2,
   "id": "89834773-504a-44a7-b863-76846d21f772",
   "metadata": {},
   "outputs": [
    {
     "name": "stdout",
     "output_type": "stream",
     "text": [
      "Defaulting to user installation because normal site-packages is not writeable\n",
      "Requirement already satisfied: pillow in /usr/lib64/python3.13/site-packages (11.0.0)\n"
     ]
    }
   ],
   "source": [
    "!pip install pillow"
   ]
  },
  {
   "cell_type": "code",
   "execution_count": 3,
   "id": "93afa096-93a6-426b-911d-b879a3b4ff4d",
   "metadata": {},
   "outputs": [],
   "source": [
    "from PIL import Image, ImageDraw, ImageFont\n",
    "import os\n",
    "import re"
   ]
  },
  {
   "cell_type": "code",
   "execution_count": 6,
   "id": "7b6e5755-b4be-4fee-98af-41c3837e8e19",
   "metadata": {},
   "outputs": [],
   "source": [
    "def create_collage(image_paths, output_path, collage_size=(800, 800)):\n",
    "    # Open all images\n",
    "    images = [Image.open(path) for path in image_paths]\n",
    "\n",
    "    # Create a new image with the specified collage size\n",
    "    collage = Image.new('RGB', collage_size)\n",
    "    draw = ImageDraw.Draw(collage)\n",
    "    \n",
    "\n",
    "    # Calculate the size of each image in the collage\n",
    "    num_images = len(images)\n",
    "    cols = 2\n",
    "    rows = int(num_images // 2) \n",
    "    \n",
    "    if num_images % 2 != 0:\n",
    "        rows += 1\n",
    "        #thumb_size = (collage_size[0] // cols, collage_size[1] // (rows-1))\n",
    "    thumb_size = (collage_size[0] // cols, collage_size[1] // rows)\n",
    "    \n",
    "    try:\n",
    "        font = ImageFont.truetype(\"~/.local/share/fonts/MesloLGS NF Regular.ttf\", 60)\n",
    "    except IOError:\n",
    "        print(\"Error\")\n",
    "        font = ImageFont.load_default()\n",
    "\n",
    "    # Paste each image into the collage\n",
    "    for index, img in enumerate(images):\n",
    "        # Resize the image to fit in the collage\n",
    "        img.thumbnail(thumb_size)\n",
    "        # Calculate the position of the image in the collage\n",
    "        x = (index % cols) * thumb_size[0]\n",
    "        y = (index // cols) * thumb_size[1]\n",
    "        # Paste the image into the collage\n",
    "        collage.paste(img, (x, y))\n",
    "        draw.text((x + 10, y + 10), str(index), font=font, fill=\"white\")\n",
    "\n",
    "    # Save the collage\n",
    "    collage.save(output_path)\n",
    "\n"
   ]
  },
  {
   "cell_type": "code",
   "execution_count": 7,
   "id": "75a88c88-fb94-473e-9fd4-d46e7a1cab14",
   "metadata": {},
   "outputs": [],
   "source": [
    "# Example usage\n",
    "image_paths = ['box/unknown_0/image_0_0_unknown.jpg', 'box/unknown_0/image_1_0_unknown.jpg', 'box/unknown_0/image_2_0_unknown.jpg',\n",
    "              'box/unknown_0/image_3_0_unknown.jpg', 'box/unknown_0/image_4_0_unknown.jpg', 'box/unknown_0/image_5_0_unknown.jpg',\n",
    "              'box/unknown_0/image_6_0_unknown.jpg', 'box/unknown_0/image_7_0_unknown.jpg']  # List of image file paths\n",
    "output_path = 'pics/collage.jpg'  # Output file path\n",
    "res = (640, 480)\n",
    "\n",
    "create_collage(image_paths, output_path, (2* res[0], (len(image_paths) // 2) * 480))"
   ]
  },
  {
   "cell_type": "code",
   "execution_count": 8,
   "id": "5c2c8301-d8cc-4e4d-b9de-37c7204c3940",
   "metadata": {},
   "outputs": [],
   "source": [
    "def create_image_dict(root_folder):\n",
    "    pattern = r\"image_(\\d+)_\\d+_.+\"\n",
    "    key = lambda x : int(re.search(pattern, x).group(1))\n",
    "    image_dict = {}\n",
    "\n",
    "    # Walk through the directory tree\n",
    "    for subdir, _, files in os.walk(root_folder):\n",
    "        # Get the subfolder name relative to the root folder\n",
    "        subfolder_name = os.path.relpath(subdir, root_folder)\n",
    "\n",
    "        # Skip the root folder itself\n",
    "        if subfolder_name == \".\":\n",
    "            continue\n",
    "\n",
    "        # Filter and collect image files\n",
    "        image_files = [os.path.join(subdir, file) for file in files if file.lower().endswith(('.png', '.jpg', '.jpeg', '.gif', '.bmp', '.tiff'))]\n",
    "        image_files = sorted(image_files, key= key)\n",
    "        if image_files:\n",
    "            image_dict[subfolder_name] = image_files\n",
    "\n",
    "    return image_dict"
   ]
  },
  {
   "cell_type": "code",
   "execution_count": 9,
   "id": "97484f63-3d81-45e3-9fa1-b787e53cc0fa",
   "metadata": {},
   "outputs": [
    {
     "name": "stdout",
     "output_type": "stream",
     "text": [
      "Subfolder: unknown_0\n",
      "  - box/unknown_0/image_0_0_unknown.jpg\n",
      "  - box/unknown_0/image_1_0_unknown.jpg\n",
      "  - box/unknown_0/image_2_0_unknown.jpg\n",
      "  - box/unknown_0/image_3_0_unknown.jpg\n",
      "  - box/unknown_0/image_4_0_unknown.jpg\n",
      "  - box/unknown_0/image_5_0_unknown.jpg\n",
      "  - box/unknown_0/image_6_0_unknown.jpg\n",
      "  - box/unknown_0/image_7_0_unknown.jpg\n",
      "  - box/unknown_0/image_8_0_unknown.jpg\n",
      "Subfolder: unknown_1\n",
      "  - box/unknown_1/image_0_1_unknown.jpg\n",
      "  - box/unknown_1/image_1_1_unknown.jpg\n",
      "  - box/unknown_1/image_2_1_unknown.jpg\n",
      "  - box/unknown_1/image_3_1_unknown.jpg\n",
      "  - box/unknown_1/image_4_1_unknown.jpg\n",
      "  - box/unknown_1/image_5_1_unknown.jpg\n",
      "  - box/unknown_1/image_6_1_unknown.jpg\n",
      "  - box/unknown_1/image_7_1_unknown.jpg\n",
      "  - box/unknown_1/image_8_1_unknown.jpg\n",
      "  - box/unknown_1/image_9_1_unknown.jpg\n",
      "Subfolder: unknown_2\n",
      "  - box/unknown_2/image_0_2_unknown.jpg\n",
      "  - box/unknown_2/image_1_2_unknown.jpg\n",
      "  - box/unknown_2/image_2_2_unknown.jpg\n",
      "  - box/unknown_2/image_3_2_unknown.jpg\n",
      "  - box/unknown_2/image_4_2_unknown.jpg\n",
      "  - box/unknown_2/image_5_2_unknown.jpg\n",
      "  - box/unknown_2/image_6_2_unknown.jpg\n",
      "  - box/unknown_2/image_7_2_unknown.jpg\n",
      "  - box/unknown_2/image_8_2_unknown.jpg\n",
      "  - box/unknown_2/image_9_2_unknown.jpg\n",
      "  - box/unknown_2/image_10_2_unknown.jpg\n",
      "Subfolder: vuv_0\n",
      "  - box/vuv_0/image_0_0_vuv.jpg\n",
      "  - box/vuv_0/image_1_0_vuv.jpg\n",
      "  - box/vuv_0/image_2_0_vuv.jpg\n",
      "  - box/vuv_0/image_3_0_vuv.jpg\n",
      "  - box/vuv_0/image_4_0_vuv.jpg\n",
      "  - box/vuv_0/image_5_0_vuv.jpg\n",
      "  - box/vuv_0/image_6_0_vuv.jpg\n",
      "  - box/vuv_0/image_7_0_vuv.jpg\n",
      "Subfolder: vuv_1\n",
      "  - box/vuv_1/image_0_1_vuv.jpg\n",
      "  - box/vuv_1/image_1_1_vuv.jpg\n",
      "  - box/vuv_1/image_2_1_vuv.jpg\n",
      "  - box/vuv_1/image_3_1_vuv.jpg\n",
      "  - box/vuv_1/image_4_1_vuv.jpg\n",
      "  - box/vuv_1/image_5_1_vuv.jpg\n",
      "  - box/vuv_1/image_6_1_vuv.jpg\n",
      "  - box/vuv_1/image_7_1_vuv.jpg\n",
      "  - box/vuv_1/image_8_1_vuv.jpg\n",
      "  - box/vuv_1/image_9_1_vuv.jpg\n",
      "Subfolder: vuv_2\n",
      "  - box/vuv_2/image_0_2_vuv.jpg\n",
      "  - box/vuv_2/image_1_2_vuv.jpg\n",
      "  - box/vuv_2/image_2_2_vuv.jpg\n",
      "  - box/vuv_2/image_3_2_vuv.jpg\n",
      "  - box/vuv_2/image_4_2_vuv.jpg\n",
      "  - box/vuv_2/image_5_2_vuv.jpg\n",
      "  - box/vuv_2/image_6_2_vuv.jpg\n",
      "  - box/vuv_2/image_7_2_vuv.jpg\n",
      "  - box/vuv_2/image_8_2_vuv.jpg\n",
      "  - box/vuv_2/image_9_2_vuv.jpg\n"
     ]
    }
   ],
   "source": [
    "box_dict = create_image_dict(\"box/\")\n",
    "pattern = r\"image_(\\d+)_\\d+_.+\"\n",
    "key = lambda x : int(re.search(pattern, x).group(1))\n",
    "for subfolder, images in box_dict.items():\n",
    "    print(f\"Subfolder: {subfolder}\")\n",
    "    for image in images:\n",
    "        \n",
    "        print(f\"  - {image}\")"
   ]
  },
  {
   "cell_type": "code",
   "execution_count": 10,
   "id": "5587044d-c1cf-44c8-9e2c-66ee253531f7",
   "metadata": {},
   "outputs": [],
   "source": [
    "all_pics = {}\n",
    "for o in [\"box\", \"drill\", \"crate\", \"bunny\"]:\n",
    "    o_pics = create_image_dict(f\"{o}/\")\n",
    "    all_pics[o] = o_pics"
   ]
  },
  {
   "cell_type": "code",
   "execution_count": 11,
   "id": "d3016411-fd61-4c93-ab87-a937ee635167",
   "metadata": {},
   "outputs": [],
   "source": [
    "res = (640, 480)\n",
    "for o, o_dict in all_pics.items():\n",
    "    for subfolder, image_paths in o_dict.items():\n",
    "        output_path = f'pics/{o}_{subfolder}_collage.jpg'  # Output file path\n",
    "        if len(image_paths) % 2 != 0:\n",
    "            create_collage(image_paths, output_path, (2* res[0], (len(image_paths) // 2 + 1) * 480))\n",
    "        else:\n",
    "            create_collage(image_paths, output_path, (2* res[0], (len(image_paths) // 2) * 480))"
   ]
  },
  {
   "cell_type": "code",
   "execution_count": 16,
   "id": "24888cb5-99c9-47d1-99c6-eb564b6f3465",
   "metadata": {},
   "outputs": [],
   "source": [
    "crate_dis = create_image_dict(\"crate_dis/\")"
   ]
  },
  {
   "cell_type": "code",
   "execution_count": 17,
   "id": "af08f97e-4f6d-45e3-a140-083f19521682",
   "metadata": {},
   "outputs": [
    {
     "data": {
      "text/plain": [
       "{'unknown_0': ['crate_dis/unknown_0/image_0_0_unknown.jpg',\n",
       "  'crate_dis/unknown_0/image_1_0_unknown.jpg',\n",
       "  'crate_dis/unknown_0/image_2_0_unknown.jpg',\n",
       "  'crate_dis/unknown_0/image_3_0_unknown.jpg',\n",
       "  'crate_dis/unknown_0/image_4_0_unknown.jpg',\n",
       "  'crate_dis/unknown_0/image_5_0_unknown.jpg',\n",
       "  'crate_dis/unknown_0/image_6_0_unknown.jpg',\n",
       "  'crate_dis/unknown_0/image_7_0_unknown.jpg',\n",
       "  'crate_dis/unknown_0/image_8_0_unknown.jpg']}"
      ]
     },
     "execution_count": 17,
     "metadata": {},
     "output_type": "execute_result"
    }
   ],
   "source": [
    "crate_dis"
   ]
  },
  {
   "cell_type": "code",
   "execution_count": 20,
   "id": "80d127d0-0688-49cb-991c-7324bbf9235c",
   "metadata": {},
   "outputs": [],
   "source": [
    "for subfolder, image_paths in crate_dis.items():\n",
    "    output_path = \"pics/crate_dis_collage.jpg\"\n",
    "    if len(image_paths) % 2 != 0:\n",
    "        create_collage(image_paths, output_path, (2* res[0], (len(image_paths) // 2 + 1) * 480))\n",
    "    else:\n",
    "        create_collage(image_paths, output_path, (2* res[0], (len(image_paths) // 2) * 480))"
   ]
  },
  {
   "cell_type": "code",
   "execution_count": null,
   "id": "bbac8973-9cc0-4cc8-a4bb-64a0ec320180",
   "metadata": {},
   "outputs": [],
   "source": []
  }
 ],
 "metadata": {
  "kernelspec": {
   "display_name": "Python 3 (ipykernel)",
   "language": "python",
   "name": "python3"
  },
  "language_info": {
   "codemirror_mode": {
    "name": "ipython",
    "version": 3
   },
   "file_extension": ".py",
   "mimetype": "text/x-python",
   "name": "python",
   "nbconvert_exporter": "python",
   "pygments_lexer": "ipython3",
   "version": "3.13.2"
  }
 },
 "nbformat": 4,
 "nbformat_minor": 5
}
